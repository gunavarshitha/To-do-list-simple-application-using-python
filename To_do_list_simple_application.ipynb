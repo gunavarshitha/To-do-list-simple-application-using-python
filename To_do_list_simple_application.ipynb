{
  "cells": [
    {
      "cell_type": "code",
      "source": [
        "# Simple To-Do List Application\n",
        "\n",
        "tasks = []\n",
        "\n",
        "def show_tasks():\n",
        "    if not tasks:\n",
        "        print(\"No tasks in the list.\")\n",
        "    else:\n",
        "        for i, task in enumerate(tasks, 1):\n",
        "            print(f\"{i}. {task}\")\n",
        "\n",
        "def add_task():\n",
        "    task = input(\"Enter a task: \")\n",
        "    tasks.append(task)\n",
        "    print(\"Task added!\")\n",
        "\n",
        "def delete_task():\n",
        "    show_tasks()\n",
        "    try:\n",
        "        task_num = int(input(\"Enter the task number to delete: \"))\n",
        "        if 1 <= task_num <= len(tasks):\n",
        "            removed_task = tasks.pop(task_num - 1)\n",
        "            print(f\"Task '{removed_task}' deleted!\")\n",
        "        else:\n",
        "            print(\"Invalid task number!\")\n",
        "    except ValueError:\n",
        "        print(\"Please enter a valid number.\")\n",
        "\n",
        "def main():\n",
        "    while True:\n",
        "        print(\"\\nTo-Do List Menu:\")\n",
        "        print(\"1. Show tasks\")\n",
        "        print(\"2. Add task\")\n",
        "        print(\"3. Delete task\")\n",
        "        print(\"4. Quit\")\n",
        "\n",
        "        choice = input(\"Enter your choice: \")\n",
        "\n",
        "        if choice == '1':\n",
        "            show_tasks()\n",
        "        elif choice == '2':\n",
        "            add_task()\n",
        "        elif choice == '3':\n",
        "            delete_task()\n",
        "        elif choice == '4':\n",
        "            print(\"Goodbye!\")\n",
        "            break\n",
        "        else:\n",
        "            print(\"Invalid choice. Please try again.\")\n",
        "\n",
        "if __name__ == \"__main__\":\n",
        "    main()\n"
      ],
      "metadata": {
        "colab": {
          "base_uri": "https://localhost:8080/"
        },
        "id": "Tg6ezUpZAnGp",
        "outputId": "e6fa151a-f2b3-460e-f6db-a25ebadba5b8"
      },
      "execution_count": 14,
      "outputs": [
        {
          "output_type": "stream",
          "name": "stdout",
          "text": [
            "\n",
            "To-Do List Menu:\n",
            "1. Show tasks\n",
            "2. Add task\n",
            "3. Delete task\n",
            "4. Quit\n",
            "Enter your choice: 2\n",
            "Enter a task: read\n",
            "Task added!\n",
            "\n",
            "To-Do List Menu:\n",
            "1. Show tasks\n",
            "2. Add task\n",
            "3. Delete task\n",
            "4. Quit\n",
            "Enter your choice: 1\n",
            "1. read\n",
            "\n",
            "To-Do List Menu:\n",
            "1. Show tasks\n",
            "2. Add task\n",
            "3. Delete task\n",
            "4. Quit\n",
            "Enter your choice: 3\n",
            "1. read\n",
            "Enter the task number to delete: read\n",
            "Please enter a valid number.\n",
            "\n",
            "To-Do List Menu:\n",
            "1. Show tasks\n",
            "2. Add task\n",
            "3. Delete task\n",
            "4. Quit\n",
            "Enter your choice: 1\n",
            "1. read\n",
            "\n",
            "To-Do List Menu:\n",
            "1. Show tasks\n",
            "2. Add task\n",
            "3. Delete task\n",
            "4. Quit\n",
            "Enter your choice: 4\n",
            "Goodbye!\n"
          ]
        }
      ]
    }
  ],
  "metadata": {
    "colab": {
      "provenance": []
    },
    "kernelspec": {
      "display_name": "Python 3",
      "name": "python3"
    },
    "language_info": {
      "name": "python"
    }
  },
  "nbformat": 4,
  "nbformat_minor": 0
}